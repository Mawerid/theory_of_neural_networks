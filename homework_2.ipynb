{
 "cells": [
  {
   "cell_type": "markdown",
   "id": "4e3325b8",
   "metadata": {},
   "source": [
    "# Create Neuron Net of Hemming"
   ]
  },
  {
   "cell_type": "markdown",
   "id": "515c206f",
   "metadata": {},
   "source": [
    "Imports"
   ]
  },
  {
   "cell_type": "code",
   "execution_count": 385,
   "id": "e724509e",
   "metadata": {
    "ExecuteTime": {
     "end_time": "2023-03-01T12:01:49.986461Z",
     "start_time": "2023-03-01T12:01:49.983006Z"
    }
   },
   "outputs": [],
   "source": [
    "import numpy as np\n",
    "import pandas as pd"
   ]
  },
  {
   "cell_type": "markdown",
   "id": "d1f32033",
   "metadata": {},
   "source": [
    "Class of MAXNET"
   ]
  },
  {
   "cell_type": "code",
   "execution_count": 386,
   "id": "9654343f",
   "metadata": {
    "ExecuteTime": {
     "end_time": "2023-03-01T12:01:50.449734Z",
     "start_time": "2023-03-01T12:01:50.441567Z"
    }
   },
   "outputs": [],
   "source": [
    "class MaxNet:\n",
    "    def __init__(self,\n",
    "                 input_num: int,\n",
    "                 epsilon: float = 1e-2,\n",
    "                 max_iteration: int = 100000) -> None:\n",
    "        self._weights = np.eye(input_num) * (1 + epsilon) - np.ones(\n",
    "            (input_num, input_num)) * epsilon\n",
    "        #         self._weights = np.full((input_num, input_num), epsilon)\n",
    "        #         np.fill_diagonal(self._weights, 1)\n",
    "        print(self._weights)\n",
    "        self._max_iteration = max_iteration\n",
    "\n",
    "    def predict(self, x_vector: np.ndarray) -> np.ndarray:\n",
    "        y_vector = x_vector\n",
    "        for i in range(self._max_iteration):\n",
    "            y_vector = y_vector @ self._weights\n",
    "            y_vector[y_vector < 0] = 0\n",
    "            if np.shape(y_vector[y_vector > 0]) == (1, 1):\n",
    "                break\n",
    "\n",
    "        return y_vector"
   ]
  },
  {
   "cell_type": "markdown",
   "id": "5b8eff4d",
   "metadata": {},
   "source": [
    "Class of Hemminng's NN"
   ]
  },
  {
   "cell_type": "code",
   "execution_count": 387,
   "id": "52554431",
   "metadata": {
    "ExecuteTime": {
     "end_time": "2023-03-01T12:01:50.765985Z",
     "start_time": "2023-03-01T12:01:50.750211Z"
    }
   },
   "outputs": [],
   "source": [
    "class HNN:\n",
    "    def __init__(self, vector_massive: np.ndarray, epsilon=1e-2) -> None:\n",
    "        self._weights = np.copy(vector_massive) / 2  # first layer\n",
    "        self._maxnet = MaxNet(vector_massive.shape[1], epsilon)  # second layer\n",
    "\n",
    "    def predict(self, vector_to_check: np.ndarray) -> np.ndarray:\n",
    "        result = vector_to_check @ self._weights\n",
    "        result[result < 0] = 0\n",
    "        result = self._maxnet.predict(result)\n",
    "        return result"
   ]
  },
  {
   "cell_type": "markdown",
   "id": "e5f0c07a",
   "metadata": {},
   "source": [
    "# Example"
   ]
  },
  {
   "cell_type": "markdown",
   "id": "f4d061c4",
   "metadata": {},
   "source": [
    "### Generate Data.\n",
    "Ya, that's cringe"
   ]
  },
  {
   "cell_type": "code",
   "execution_count": 388,
   "id": "a5efb3e6",
   "metadata": {
    "ExecuteTime": {
     "end_time": "2023-03-01T12:01:51.163364Z",
     "start_time": "2023-03-01T12:01:51.151732Z"
    }
   },
   "outputs": [],
   "source": [
    "x_1 = np.array([\n",
    "    -1, -1, 1, -1, -1, -1, 1, 1, -1, -1, 1, -1, 1, -1, -1, -1, -1, 1, -1, -1,\n",
    "    -1, -1, 1, -1, -1\n",
    "])\n",
    "\n",
    "x_2 = np.array([\n",
    "    -1, 1, 1, 1, -1, -1, -1, -1, 1, -1, -1, -1, 1, -1, -1, -1, 1, -1, -1, -1,\n",
    "    -1, 1, 1, 1, -1\n",
    "])\n",
    "\n",
    "x_3 = np.array([\n",
    "    -1, 1, 1, 1, -1, -1, -1, -1, 1, -1, -1, 1, 1, 1, -1, -1, -1, -1, 1, -1, -1,\n",
    "    1, 1, 1, -1\n",
    "])\n",
    "\n",
    "x_4 = np.array([\n",
    "    -1, 1, -1, 1, -1, -1, 1, -1, 1, -1, -1, 1, 1, 1, -1, -1, -1, -1, 1, -1, -1,\n",
    "    -1, -1, 1, -1\n",
    "])\n",
    "\n",
    "x_5 = np.array([\n",
    "    -1, 1, 1, 1, -1, -1, 1, -1, -1, -1, -1, 1, 1, 1, -1, -1, -1, -1, 1, -1, -1,\n",
    "    1, 1, 1, -1\n",
    "])\n",
    "\n",
    "x_6 = np.array([\n",
    "    -1, 1, 1, 1, -1, -1, 1, -1, -1, -1, -1, 1, 1, 1, -1, -1, 1, -1, 1, -1, -1,\n",
    "    1, 1, 1, -1\n",
    "])\n",
    "\n",
    "x_7 = np.array([\n",
    "    -1, 1, 1, 1, -1, -1, -1, -1, 1, -1, -1, -1, 1, -1, -1, -1, -1, 1, -1, -1,\n",
    "    -1, -1, 1, -1, -1\n",
    "])\n",
    "\n",
    "x_8 = np.array([\n",
    "    -1, 1, 1, 1, -1, -1, 1, -1, 1, -1, -1, 1, 1, 1, -1, -1, 1, -1, 1, -1, -1,\n",
    "    1, 1, 1, -1\n",
    "])\n",
    "\n",
    "x_9 = np.array([\n",
    "    -1, 1, 1, 1, -1, -1, 1, -1, 1, -1, -1, 1, 1, 1, -1, -1, -1, -1, 1, -1, -1,\n",
    "    1, 1, 1, -1\n",
    "])\n",
    "\n",
    "x_0 = np.array([\n",
    "    -1, 1, 1, 1, -1, -1, 1, -1, 1, -1, -1, 1, -1, 1, -1, -1, 1, -1, 1, -1, -1,\n",
    "    1, 1, 1, -1\n",
    "])"
   ]
  },
  {
   "cell_type": "code",
   "execution_count": 389,
   "id": "6aad23e1",
   "metadata": {
    "ExecuteTime": {
     "end_time": "2023-03-01T12:01:51.328355Z",
     "start_time": "2023-03-01T12:01:51.317800Z"
    }
   },
   "outputs": [],
   "source": [
    "weights = np.array([x_0, x_1, x_2, x_3, x_4, x_5, x_6, x_7, x_8,\n",
    "                    x_9]).transpose()"
   ]
  },
  {
   "cell_type": "markdown",
   "id": "1b5ae310",
   "metadata": {},
   "source": [
    "### Create HNN"
   ]
  },
  {
   "cell_type": "code",
   "execution_count": 390,
   "id": "bfd4880f",
   "metadata": {
    "ExecuteTime": {
     "end_time": "2023-03-01T12:01:51.721595Z",
     "start_time": "2023-03-01T12:01:51.709386Z"
    }
   },
   "outputs": [
    {
     "name": "stdout",
     "output_type": "stream",
     "text": [
      "[[ 1.   -0.01 -0.01 -0.01 -0.01 -0.01 -0.01 -0.01 -0.01 -0.01]\n",
      " [-0.01  1.   -0.01 -0.01 -0.01 -0.01 -0.01 -0.01 -0.01 -0.01]\n",
      " [-0.01 -0.01  1.   -0.01 -0.01 -0.01 -0.01 -0.01 -0.01 -0.01]\n",
      " [-0.01 -0.01 -0.01  1.   -0.01 -0.01 -0.01 -0.01 -0.01 -0.01]\n",
      " [-0.01 -0.01 -0.01 -0.01  1.   -0.01 -0.01 -0.01 -0.01 -0.01]\n",
      " [-0.01 -0.01 -0.01 -0.01 -0.01  1.   -0.01 -0.01 -0.01 -0.01]\n",
      " [-0.01 -0.01 -0.01 -0.01 -0.01 -0.01  1.   -0.01 -0.01 -0.01]\n",
      " [-0.01 -0.01 -0.01 -0.01 -0.01 -0.01 -0.01  1.   -0.01 -0.01]\n",
      " [-0.01 -0.01 -0.01 -0.01 -0.01 -0.01 -0.01 -0.01  1.   -0.01]\n",
      " [-0.01 -0.01 -0.01 -0.01 -0.01 -0.01 -0.01 -0.01 -0.01  1.  ]]\n"
     ]
    }
   ],
   "source": [
    "model = HNN(weights)"
   ]
  },
  {
   "cell_type": "markdown",
   "id": "c3f6a166",
   "metadata": {},
   "source": [
    "### Check HNN"
   ]
  },
  {
   "cell_type": "code",
   "execution_count": 391,
   "id": "9e41cbbc",
   "metadata": {
    "ExecuteTime": {
     "end_time": "2023-03-01T12:01:52.641950Z",
     "start_time": "2023-03-01T12:01:52.117469Z"
    }
   },
   "outputs": [
    {
     "data": {
      "text/plain": [
       "array([2.96739926, 0.        , 0.        , 0.        , 0.        ,\n",
       "       0.        , 0.        , 0.        , 0.        , 0.        ])"
      ]
     },
     "execution_count": 391,
     "metadata": {},
     "output_type": "execute_result"
    }
   ],
   "source": [
    "model.predict(x_0)"
   ]
  },
  {
   "cell_type": "code",
   "execution_count": null,
   "id": "58c02ce2",
   "metadata": {},
   "outputs": [],
   "source": []
  }
 ],
 "metadata": {
  "kernelspec": {
   "display_name": "Python 3 (ipykernel)",
   "language": "python",
   "name": "python3"
  },
  "language_info": {
   "codemirror_mode": {
    "name": "ipython",
    "version": 3
   },
   "file_extension": ".py",
   "mimetype": "text/x-python",
   "name": "python",
   "nbconvert_exporter": "python",
   "pygments_lexer": "ipython3",
   "version": "3.9.16"
  }
 },
 "nbformat": 4,
 "nbformat_minor": 5
}
