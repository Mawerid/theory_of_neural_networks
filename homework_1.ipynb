{
 "cells": [
  {
   "cell_type": "code",
   "execution_count": 64,
   "id": "2ca0e78f",
   "metadata": {
    "ExecuteTime": {
     "end_time": "2023-02-16T06:44:50.207833Z",
     "start_time": "2023-02-16T06:44:50.204301Z"
    }
   },
   "outputs": [],
   "source": [
    "import numpy as np\n",
    "from typing import *"
   ]
  },
  {
   "cell_type": "code",
   "execution_count": 125,
   "id": "c1400122",
   "metadata": {
    "ExecuteTime": {
     "end_time": "2023-02-16T08:28:43.968279Z",
     "start_time": "2023-02-16T08:28:43.962630Z"
    }
   },
   "outputs": [],
   "source": [
    "class Neuron:\n",
    "    def __init__(self, bias: float, activ_func: Callable[[float],\n",
    "                                                         float]) -> None:\n",
    "\n",
    "        self._bias = bias\n",
    "        self._activ_func = activ_func\n",
    "        self._state = 0.0\n",
    "        self._new_state = 0.0\n",
    "\n",
    "    def run_forward(self, weights: np.ndarray, inputs: np.ndarray) -> float:\n",
    "        print(weights)\n",
    "        print(inputs)\n",
    "        results = (weights * inputs).sum() - self._bias\n",
    "        self._new_state = self._activ_func(results)\n",
    "        return self._new_state\n",
    "\n",
    "    def update(self):\n",
    "        self._state = self._new_state"
   ]
  },
  {
   "cell_type": "code",
   "execution_count": 132,
   "id": "fc46713b",
   "metadata": {
    "ExecuteTime": {
     "end_time": "2023-02-16T08:30:46.646921Z",
     "start_time": "2023-02-16T08:30:46.638893Z"
    }
   },
   "outputs": [],
   "source": [
    "class RNN:\n",
    "    def __init__(self, output_neuron_number: int, input_count: int) -> None:\n",
    "        self._input_count = input_count\n",
    "        self._output_neuron_number = output_neuron_number\n",
    "        self._weights_matrix = []\n",
    "        self._input_weights = []\n",
    "        self._neurons = []\n",
    "\n",
    "    def add(self, input_weight_i: float, bias: float, activ_func: Callable[[float],\n",
    "                                                                           float]) -> None:\n",
    "        self._neurons.append(Neuron(bias, activ_func))\n",
    "        self._input_weights.append(input_weight_i)\n",
    "        self._weights_matrix.append([0] * (len(self._neurons) - 1))\n",
    "        for weights in self._weights_matrix:\n",
    "            weights.append(0)\n",
    "\n",
    "    def set_weight(self, weight_num: int, neuron_num: int, weight: float) -> None:\n",
    "        self._weights_matrix[neuron_num][weight_num] = weight\n",
    "\n",
    "    def run_forward(self, x_input: np.ndarray, sync=True) -> float:\n",
    "        state = [neuron._state for neuron in self._neurons]\n",
    "\n",
    "        for i in range(len(self._neurons)):\n",
    "            self._neurons[i].run_forward(\n",
    "                self._weights_matrix[i], self._input_weights[i])\n",
    "\n",
    "            if not sync:\n",
    "                self._neurons[i].update()\n",
    "\n",
    "        if sync:\n",
    "            for neuron in self._neurons:\n",
    "                neuron.update()\n",
    "        return self._neurons[self._output_neuron_number]._state"
   ]
  },
  {
   "cell_type": "markdown",
   "id": "6721a535",
   "metadata": {},
   "source": [
    "# Task 1\n",
    "\n",
    "Program RNN, with:\n",
    "1) divergence\n",
    "2) period\n",
    "3) convergence\n",
    "4) cycle"
   ]
  },
  {
   "cell_type": "code",
   "execution_count": 133,
   "id": "d4b9d758",
   "metadata": {
    "ExecuteTime": {
     "end_time": "2023-02-16T08:30:47.504503Z",
     "start_time": "2023-02-16T08:30:47.498241Z"
    }
   },
   "outputs": [],
   "source": [
    "def run_nn(activ_function: Callable[[float], float]) -> List[float]:\n",
    "    nn = RNN(3, 2)\n",
    "    nn.add([1,5,-2], -1, activ_function)\n",
    "    nn.add([-1,-4,0], 2, activ_function)\n",
    "    nn.add([4,0,3], 0, activ_function)\n",
    "    nn.add([-2,1,1], 1, activ_function)\n",
    "\n",
    "    nn.set_weight(0,1, 3)\n",
    "    nn.set_weight(0,3, 1)\n",
    "    nn.set_weight(1,2, -2)\n",
    "    nn.set_weight(1,3, 2)\n",
    "    nn.set_weight(2,0, 4)\n",
    "    nn.set_weight(3,1, 1)\n",
    "    nn.set_weight(3,2, -1)\n",
    "            \n",
    "    inputs = [\n",
    "            [0,0,1],\n",
    "            [1,2,0],\n",
    "            [-1,-4,-1],\n",
    "            [4,1,2]\n",
    "            ]\n",
    "    outputs = [nn.run_forward(i) for i in inputs]\n",
    "\n",
    "        \n",
    "    return outputs"
   ]
  },
  {
   "cell_type": "code",
   "execution_count": 134,
   "id": "a4442f32",
   "metadata": {
    "ExecuteTime": {
     "end_time": "2023-02-16T08:30:48.072455Z",
     "start_time": "2023-02-16T08:30:48.034210Z"
    }
   },
   "outputs": [
    {
     "name": "stdout",
     "output_type": "stream",
     "text": [
      "[0, 0, 4, 0]\n",
      "[1, 5, -2]\n"
     ]
    },
    {
     "ename": "TypeError",
     "evalue": "can't multiply sequence by non-int of type 'list'",
     "output_type": "error",
     "traceback": [
      "\u001b[0;31m---------------------------------------------------------------------------\u001b[0m",
      "\u001b[0;31mTypeError\u001b[0m                                 Traceback (most recent call last)",
      "\u001b[0;32m/tmp/ipykernel_3411/2566399204.py\u001b[0m in \u001b[0;36m<module>\u001b[0;34m\u001b[0m\n\u001b[1;32m      1\u001b[0m \u001b[0;31m# 1\u001b[0m\u001b[0;34m\u001b[0m\u001b[0;34m\u001b[0m\u001b[0m\n\u001b[1;32m      2\u001b[0m \u001b[0;31m# exp\u001b[0m\u001b[0;34m\u001b[0m\u001b[0;34m\u001b[0m\u001b[0m\n\u001b[0;32m----> 3\u001b[0;31m \u001b[0mrun_nn\u001b[0m\u001b[0;34m(\u001b[0m\u001b[0mnp\u001b[0m\u001b[0;34m.\u001b[0m\u001b[0mexp\u001b[0m\u001b[0;34m)\u001b[0m\u001b[0;34m\u001b[0m\u001b[0;34m\u001b[0m\u001b[0m\n\u001b[0m",
      "\u001b[0;32m/tmp/ipykernel_3411/3004629855.py\u001b[0m in \u001b[0;36mrun_nn\u001b[0;34m(activ_function)\u001b[0m\n\u001b[1;32m     20\u001b[0m             \u001b[0;34m[\u001b[0m\u001b[0;36m4\u001b[0m\u001b[0;34m,\u001b[0m\u001b[0;36m1\u001b[0m\u001b[0;34m,\u001b[0m\u001b[0;36m2\u001b[0m\u001b[0;34m]\u001b[0m\u001b[0;34m\u001b[0m\u001b[0;34m\u001b[0m\u001b[0m\n\u001b[1;32m     21\u001b[0m             ]\n\u001b[0;32m---> 22\u001b[0;31m     \u001b[0moutputs\u001b[0m \u001b[0;34m=\u001b[0m \u001b[0;34m[\u001b[0m\u001b[0mnn\u001b[0m\u001b[0;34m.\u001b[0m\u001b[0mrun_forward\u001b[0m\u001b[0;34m(\u001b[0m\u001b[0mi\u001b[0m\u001b[0;34m)\u001b[0m \u001b[0;32mfor\u001b[0m \u001b[0mi\u001b[0m \u001b[0;32min\u001b[0m \u001b[0minputs\u001b[0m\u001b[0;34m]\u001b[0m\u001b[0;34m\u001b[0m\u001b[0;34m\u001b[0m\u001b[0m\n\u001b[0m\u001b[1;32m     23\u001b[0m \u001b[0;34m\u001b[0m\u001b[0m\n\u001b[1;32m     24\u001b[0m \u001b[0;34m\u001b[0m\u001b[0m\n",
      "\u001b[0;32m/tmp/ipykernel_3411/3004629855.py\u001b[0m in \u001b[0;36m<listcomp>\u001b[0;34m(.0)\u001b[0m\n\u001b[1;32m     20\u001b[0m             \u001b[0;34m[\u001b[0m\u001b[0;36m4\u001b[0m\u001b[0;34m,\u001b[0m\u001b[0;36m1\u001b[0m\u001b[0;34m,\u001b[0m\u001b[0;36m2\u001b[0m\u001b[0;34m]\u001b[0m\u001b[0;34m\u001b[0m\u001b[0;34m\u001b[0m\u001b[0m\n\u001b[1;32m     21\u001b[0m             ]\n\u001b[0;32m---> 22\u001b[0;31m     \u001b[0moutputs\u001b[0m \u001b[0;34m=\u001b[0m \u001b[0;34m[\u001b[0m\u001b[0mnn\u001b[0m\u001b[0;34m.\u001b[0m\u001b[0mrun_forward\u001b[0m\u001b[0;34m(\u001b[0m\u001b[0mi\u001b[0m\u001b[0;34m)\u001b[0m \u001b[0;32mfor\u001b[0m \u001b[0mi\u001b[0m \u001b[0;32min\u001b[0m \u001b[0minputs\u001b[0m\u001b[0;34m]\u001b[0m\u001b[0;34m\u001b[0m\u001b[0;34m\u001b[0m\u001b[0m\n\u001b[0m\u001b[1;32m     23\u001b[0m \u001b[0;34m\u001b[0m\u001b[0m\n\u001b[1;32m     24\u001b[0m \u001b[0;34m\u001b[0m\u001b[0m\n",
      "\u001b[0;32m/tmp/ipykernel_3411/2821429100.py\u001b[0m in \u001b[0;36mrun_forward\u001b[0;34m(self, x_input, sync)\u001b[0m\n\u001b[1;32m     22\u001b[0m \u001b[0;34m\u001b[0m\u001b[0m\n\u001b[1;32m     23\u001b[0m         \u001b[0;32mfor\u001b[0m \u001b[0mi\u001b[0m \u001b[0;32min\u001b[0m \u001b[0mrange\u001b[0m\u001b[0;34m(\u001b[0m\u001b[0mlen\u001b[0m\u001b[0;34m(\u001b[0m\u001b[0mself\u001b[0m\u001b[0;34m.\u001b[0m\u001b[0m_neurons\u001b[0m\u001b[0;34m)\u001b[0m\u001b[0;34m)\u001b[0m\u001b[0;34m:\u001b[0m\u001b[0;34m\u001b[0m\u001b[0;34m\u001b[0m\u001b[0m\n\u001b[0;32m---> 24\u001b[0;31m             self._neurons[i].run_forward(\n\u001b[0m\u001b[1;32m     25\u001b[0m                 self._weights_matrix[i], self._input_weights[i])\n\u001b[1;32m     26\u001b[0m \u001b[0;34m\u001b[0m\u001b[0m\n",
      "\u001b[0;32m/tmp/ipykernel_3411/3780427130.py\u001b[0m in \u001b[0;36mrun_forward\u001b[0;34m(self, weights, inputs)\u001b[0m\n\u001b[1;32m     11\u001b[0m         \u001b[0mprint\u001b[0m\u001b[0;34m(\u001b[0m\u001b[0mweights\u001b[0m\u001b[0;34m)\u001b[0m\u001b[0;34m\u001b[0m\u001b[0;34m\u001b[0m\u001b[0m\n\u001b[1;32m     12\u001b[0m         \u001b[0mprint\u001b[0m\u001b[0;34m(\u001b[0m\u001b[0minputs\u001b[0m\u001b[0;34m)\u001b[0m\u001b[0;34m\u001b[0m\u001b[0;34m\u001b[0m\u001b[0m\n\u001b[0;32m---> 13\u001b[0;31m         \u001b[0mresults\u001b[0m \u001b[0;34m=\u001b[0m \u001b[0;34m(\u001b[0m\u001b[0mweights\u001b[0m \u001b[0;34m*\u001b[0m \u001b[0minputs\u001b[0m\u001b[0;34m)\u001b[0m\u001b[0;34m.\u001b[0m\u001b[0msum\u001b[0m\u001b[0;34m(\u001b[0m\u001b[0;34m)\u001b[0m \u001b[0;34m-\u001b[0m \u001b[0mself\u001b[0m\u001b[0;34m.\u001b[0m\u001b[0m_bias\u001b[0m\u001b[0;34m\u001b[0m\u001b[0;34m\u001b[0m\u001b[0m\n\u001b[0m\u001b[1;32m     14\u001b[0m         \u001b[0mself\u001b[0m\u001b[0;34m.\u001b[0m\u001b[0m_new_state\u001b[0m \u001b[0;34m=\u001b[0m \u001b[0mself\u001b[0m\u001b[0;34m.\u001b[0m\u001b[0m_activ_func\u001b[0m\u001b[0;34m(\u001b[0m\u001b[0mresults\u001b[0m\u001b[0;34m)\u001b[0m\u001b[0;34m\u001b[0m\u001b[0;34m\u001b[0m\u001b[0m\n\u001b[1;32m     15\u001b[0m         \u001b[0;32mreturn\u001b[0m \u001b[0mself\u001b[0m\u001b[0;34m.\u001b[0m\u001b[0m_new_state\u001b[0m\u001b[0;34m\u001b[0m\u001b[0;34m\u001b[0m\u001b[0m\n",
      "\u001b[0;31mTypeError\u001b[0m: can't multiply sequence by non-int of type 'list'"
     ]
    }
   ],
   "source": [
    "# 1\n",
    "# exp\n",
    "run_nn(np.exp)"
   ]
  },
  {
   "cell_type": "code",
   "execution_count": 95,
   "id": "cd79e5cd",
   "metadata": {
    "ExecuteTime": {
     "end_time": "2023-02-16T08:09:19.817365Z",
     "start_time": "2023-02-16T08:09:19.789990Z"
    }
   },
   "outputs": [
    {
     "data": {
      "text/plain": [
       "[array([-0.99739428]),\n",
       " array([-0.99739428]),\n",
       " array([-0.99739428]),\n",
       " array([-0.99739428]),\n",
       " array([-0.99739428]),\n",
       " array([-0.99739428]),\n",
       " array([-0.99739428]),\n",
       " array([-0.99739428]),\n",
       " array([-0.99739428]),\n",
       " array([-0.99739428])]"
      ]
     },
     "execution_count": 95,
     "metadata": {},
     "output_type": "execute_result"
    }
   ],
   "source": [
    "# 2\n",
    "# sinus\n",
    "run_nn(np.sin)"
   ]
  },
  {
   "cell_type": "code",
   "execution_count": 56,
   "id": "7d946e7b",
   "metadata": {
    "ExecuteTime": {
     "end_time": "2023-02-15T06:18:13.235436Z",
     "start_time": "2023-02-15T06:18:13.232477Z"
    }
   },
   "outputs": [],
   "source": [
    "# 3\n",
    "# 1/n^2"
   ]
  },
  {
   "cell_type": "code",
   "execution_count": 114,
   "id": "8784f115",
   "metadata": {
    "ExecuteTime": {
     "end_time": "2023-02-16T08:26:45.247932Z",
     "start_time": "2023-02-16T08:26:45.242059Z"
    }
   },
   "outputs": [
    {
     "data": {
      "text/plain": [
       "numpy.ndarray"
      ]
     },
     "execution_count": 114,
     "metadata": {},
     "output_type": "execute_result"
    }
   ],
   "source": [
    "n = np.array([1, 2, 3])\n",
    "type(n)"
   ]
  },
  {
   "cell_type": "code",
   "execution_count": null,
   "id": "bef54dd2",
   "metadata": {},
   "outputs": [],
   "source": []
  }
 ],
 "metadata": {
  "kernelspec": {
   "display_name": "Python 3 (ipykernel)",
   "language": "python",
   "name": "python3"
  },
  "language_info": {
   "codemirror_mode": {
    "name": "ipython",
    "version": 3
   },
   "file_extension": ".py",
   "mimetype": "text/x-python",
   "name": "python",
   "nbconvert_exporter": "python",
   "pygments_lexer": "ipython3",
   "version": "3.9.16"
  }
 },
 "nbformat": 4,
 "nbformat_minor": 5
}
